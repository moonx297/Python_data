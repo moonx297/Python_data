{
 "cells": [
  {
   "cell_type": "markdown",
   "id": "af9ee4e9",
   "metadata": {},
   "source": [
    "# 입력과 출력"
   ]
  },
  {
   "cell_type": "code",
   "execution_count": 3,
   "id": "1b5e708a",
   "metadata": {},
   "outputs": [
    {
     "name": "stdout",
     "output_type": "stream",
     "text": [
      "이름을 입력하세요: 문희인\n",
      "문희인 씨, 안녕하세요?\n",
      "파이썬에 오신 것을 환영합니다.\n"
     ]
    }
   ],
   "source": [
    "name = input(\"이름을 입력하세요: \")\n",
    "print(name, \"씨, 안녕하세요?\")\n",
    "print(\"파이썬에 오신 것을 환영합니다.\")"
   ]
  },
  {
   "cell_type": "code",
   "execution_count": 7,
   "id": "520d82e3",
   "metadata": {},
   "outputs": [
    {
     "name": "stdout",
     "output_type": "stream",
     "text": [
      "첫 번째 정수를 입력하세요: 100\n",
      "두 번째 정수를 입력하세요: 200\n",
      "합은  100200\n"
     ]
    }
   ],
   "source": [
    "# 문자열로 합이 출력\n",
    "x = input(\"첫 번째 정수를 입력하세요: \") \n",
    "y = input(\"두 번째 정수를 입력하세요: \")\n",
    "sum = x + y\n",
    "print(\"합은 \", sum)"
   ]
  },
  {
   "cell_type": "code",
   "execution_count": 10,
   "id": "1435655c",
   "metadata": {},
   "outputs": [
    {
     "name": "stdout",
     "output_type": "stream",
     "text": [
      "첫 번째 정수를 입력하세요: 100\n",
      "두 번째 정수를 입력하세요: 200\n",
      "합은:  300\n"
     ]
    }
   ],
   "source": [
    "# 문자열을 숫자형으로 변환해서 합 출력\n",
    "s1 = input(\"첫 번째 정수를 입력하세요: \") \n",
    "x = int(s1)\n",
    "s2 = input(\"두 번째 정수를 입력하세요: \")\n",
    "t = int(s2)\n",
    "sum = x + t\n",
    "print(\"합은: \", sum)\n"
   ]
  },
  {
   "cell_type": "code",
   "execution_count": 14,
   "id": "d280e17e",
   "metadata": {},
   "outputs": [
    {
     "name": "stdout",
     "output_type": "stream",
     "text": [
      "면접(제곱미터):3\n",
      "1.0 평\n"
     ]
    }
   ],
   "source": [
    "# 부동 소수점 사용\n",
    "# 평수를 구하는 방법\n",
    "# eval은 데이터에 따라 실수 또는 정수로 변환\n",
    "SQMETER_PER_P = 3\n",
    "\n",
    "area = eval(input(\"면접(제곱미터):\"))\n",
    "py = area / SQMETER_PER_P\n",
    "print(py, \"평\")"
   ]
  },
  {
   "cell_type": "code",
   "execution_count": 15,
   "id": "ab8ffd4f",
   "metadata": {},
   "outputs": [
    {
     "name": "stdout",
     "output_type": "stream",
     "text": [
      "면접(제곱미터):25.6\n",
      "7.76 평\n"
     ]
    }
   ],
   "source": [
    "# 형식화된 출력\n",
    "\n",
    "SQMETER_PER_P = 3.3\n",
    "\n",
    "area = eval(input(\"면접(제곱미터):\"))\n",
    "py = area / SQMETER_PER_P\n",
    "print(\"%.2f\" %py, \"평\")"
   ]
  },
  {
   "cell_type": "code",
   "execution_count": 16,
   "id": "c4503554",
   "metadata": {},
   "outputs": [
    {
     "ename": "SyntaxError",
     "evalue": "unmatched '}' (3169048429.py, line 8)",
     "output_type": "error",
     "traceback": [
      "\u001b[1;36m  Input \u001b[1;32mIn [16]\u001b[1;36m\u001b[0m\n\u001b[1;33m    print(\"내년이면\" + str(age+1)+\"이 되시는 군요!\")}\u001b[0m\n\u001b[1;37m                                          ^\u001b[0m\n\u001b[1;31mSyntaxError\u001b[0m\u001b[1;31m:\u001b[0m unmatched '}'\n"
     ]
    }
   ],
   "source": [
    "# 대화형 프로그램\n",
    "print(\"안녕하세요\")\n",
    "name = input(\"이름이 어떻게 되시나요?\")\n",
    "print(\"만나서 반갑습니다.\" + name + \"씨\")\n",
    "print(\"이름의 길이는 가음과 같군요: \", len(name))\n",
    "\n",
    "age = int(input(\"나이가 어떻게 되나요?\"))\n",
    "print(\"내년이면\" + str(age+1)+\"이 되시는 군요!\")}"
   ]
  },
  {
   "cell_type": "code",
   "execution_count": 20,
   "id": "70e5fee2",
   "metadata": {},
   "outputs": [
    {
     "name": "stdout",
     "output_type": "stream",
     "text": [
      "안녕하세요\n",
      "이름이 어떻게 되시나요?문희인\n",
      "만나서 반갑습니다.문희인씨\n",
      "이름의 길이는 다음과 같군요: 3\n",
      "나이가 어떻게 되나요?28\n",
      "내년이면29이 되시는군요.\n"
     ]
    }
   ],
   "source": [
    "# 대화형 프로그램\n",
    "print(\"안녕하세요\")\n",
    "name = input(\"이름이 어떻게 되시나요?\")\n",
    "print(\"만나서 반갑습니다.\" + name + \"씨\")\n",
    "print(\"이름의 길이는 다음과 같군요:\", len(name))\n",
    "\n",
    "age = int(input(\"나이가 어떻게 되나요?\"))\n",
    "print(\"내년이면\" + str(age+1)+ \"이 되시는군요.\")"
   ]
  },
  {
   "cell_type": "code",
   "execution_count": 21,
   "id": "280cd224",
   "metadata": {},
   "outputs": [
    {
     "name": "stdout",
     "output_type": "stream",
     "text": [
      "몸무게 kg 단위를 입력하세요 :47.5\n",
      "키 cm 단위를 입력하세요 :163.5\n",
      "당신의 BMI= 0.00177687998578496\n"
     ]
    }
   ],
   "source": [
    "# BMI 계산하기\n",
    "# BMI < 18.50 저체중\n",
    "# BMI 18.50 - 24.99 표준\n",
    "# BMI 24.99 - 29.99 과체중\n",
    "# BMI > 29.99 비만\n",
    "weight = float(input(\"몸무게 kg 단위를 입력하세요 :\"))\n",
    "height = float(input(\"키 cm 단위를 입력하세요 :\"))\n",
    "\n",
    "bmi = (weight / (height**2))\n",
    "print(\"당신의 BMI=\", bmi)"
   ]
  },
  {
   "cell_type": "code",
   "execution_count": 24,
   "id": "360e8c19",
   "metadata": {},
   "outputs": [
    {
     "name": "stdout",
     "output_type": "stream",
     "text": [
      "반지름 입력하세요: 5\n",
      "구의 부피=    523.60\n"
     ]
    }
   ],
   "source": [
    "# 구의 부피 계산\n",
    "r = float(input(\"반지름 입력하세요: \"))\n",
    "\n",
    "# 구의 부피 공식\n",
    "volume = (4.0/3.0)* 3.141592 * r**3\n",
    "\n",
    "#구의 부피를 화면에 출력\n",
    "print(\"구의 부피=%10.2f\" % volume)"
   ]
  }
 ],
 "metadata": {
  "kernelspec": {
   "display_name": "Python 3 (ipykernel)",
   "language": "python",
   "name": "python3"
  },
  "language_info": {
   "codemirror_mode": {
    "name": "ipython",
    "version": 3
   },
   "file_extension": ".py",
   "mimetype": "text/x-python",
   "name": "python",
   "nbconvert_exporter": "python",
   "pygments_lexer": "ipython3",
   "version": "3.9.12"
  }
 },
 "nbformat": 4,
 "nbformat_minor": 5
}
