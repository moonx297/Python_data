{
 "cells": [
  {
   "cell_type": "markdown",
   "id": "32328c3a",
   "metadata": {},
   "source": [
    " $$Cov(x,y) = \\frac{1}{N}\\sum_{i=1}^N(x_i - \\mu_x)(y_i - \\mu_y)$$"
   ]
  },
  {
   "cell_type": "code",
   "execution_count": 1,
   "id": "e7229af0",
   "metadata": {},
   "outputs": [],
   "source": [
    "a=4\n",
    "b=5"
   ]
  },
  {
   "cell_type": "code",
   "execution_count": 2,
   "id": "c6e9e33e",
   "metadata": {},
   "outputs": [
    {
     "name": "stdout",
     "output_type": "stream",
     "text": [
      "9\n",
      "1\n"
     ]
    }
   ],
   "source": [
    "print(a+b)\n",
    "print(b-a)"
   ]
  },
  {
   "cell_type": "code",
   "execution_count": null,
   "id": "b962a8b6",
   "metadata": {},
   "outputs": [],
   "source": []
  }
 ],
 "metadata": {
  "kernelspec": {
   "display_name": "Python 3 (ipykernel)",
   "language": "python",
   "name": "python3"
  },
  "language_info": {
   "codemirror_mode": {
    "name": "ipython",
    "version": 3
   },
   "file_extension": ".py",
   "mimetype": "text/x-python",
   "name": "python",
   "nbconvert_exporter": "python",
   "pygments_lexer": "ipython3",
   "version": "3.9.12"
  }
 },
 "nbformat": 4,
 "nbformat_minor": 5
}
