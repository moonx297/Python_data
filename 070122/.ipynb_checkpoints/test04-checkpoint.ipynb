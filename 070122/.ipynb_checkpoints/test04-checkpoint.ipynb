{
 "cells": [
  {
   "cell_type": "code",
   "execution_count": 1,
   "id": "9c0b5e3d",
   "metadata": {},
   "outputs": [
    {
     "name": "stdout",
     "output_type": "stream",
     "text": [
      "상품의 가격: 25000\n",
      "배송비= 0\n"
     ]
    }
   ],
   "source": [
    "# 배송비 계산 프로그램 - switch 문\n",
    "price = int(input(\"상품의 가격: \"))\n",
    "\n",
    "# 배송비를 결정한다.\n",
    "if price > 20000 : \n",
    "    shopping_cost = 0\n",
    "else : \n",
    "    shopping_cost = 3000\n",
    "    \n",
    "# 배송비를 출력\n",
    "print(\"배송비=\", shopping_cost)"
   ]
  },
  {
   "cell_type": "code",
   "execution_count": 3,
   "id": "fa847db2",
   "metadata": {},
   "outputs": [
    {
     "name": "stdout",
     "output_type": "stream",
     "text": [
      "False\n",
      "True\n"
     ]
    }
   ],
   "source": [
    "# 관계연산자\n",
    "s1 = \"안녕하세요\"\n",
    "s2 = \"Hello\"\n",
    "print(s1 < s2)\n",
    "print(s1 > s2)"
   ]
  },
  {
   "cell_type": "code",
   "execution_count": 5,
   "id": "71d4b7c4",
   "metadata": {
    "scrolled": true
   },
   "outputs": [
    {
     "name": "stdout",
     "output_type": "stream",
     "text": [
      "sqrt(3.0) * sqrt(3.0)은 3.0과 같지 않다\n"
     ]
    }
   ],
   "source": [
    "# 실수와 실수 비교\n",
    "from math import sqrt   #math에 함수가 너무 많으니 다 가져오지 말고 math중에 sqrt함수를 import 해와라 \n",
    "\n",
    "n = sqrt(3.0)\n",
    "if n*n - 3.0:\n",
    "    print(\"sqrt(3.0) * sqrt(3.0)은 3.0과 같다\")\n",
    "else:\n",
    "    print(\"sqrt(3.0) * sqrt(3.0)은 3.0과 같지 않다\")\n"
   ]
  },
  {
   "cell_type": "code",
   "execution_count": 1,
   "id": "9843cd29",
   "metadata": {},
   "outputs": [
    {
     "name": "stdout",
     "output_type": "stream",
     "text": [
      "sqrt(3.0) * sqrt(3.0)은 3.0과 같다\n"
     ]
    }
   ],
   "source": [
    "# 실수와 실수 비교\n",
    "from math import sqrt   #math에 함수가 너무 많으니 다 가져오지 말고 math중에 sqrt함수를 import 해와라 \n",
    "\n",
    "n = sqrt(3.0)\n",
    "if abs(n*n - 3.0) < 0.00001:    #길이 줄여주기\n",
    "    print(\"sqrt(3.0) * sqrt(3.0)은 3.0과 같다\")\n",
    "else:\n",
    "    print(\"sqrt(3.0) * sqrt(3.0)은 3.0과 같지 않다\")"
   ]
  },
  {
   "cell_type": "code",
   "execution_count": 2,
   "id": "8567f938",
   "metadata": {},
   "outputs": [
    {
     "name": "stdout",
     "output_type": "stream",
     "text": [
      "43 + 98=2\n",
      "False\n"
     ]
    }
   ],
   "source": [
    "# 산술 문제 출제 프로그램\n",
    "# f 문자열은 { }로 감싸서 문자열 안에 넣을 수 있음\n",
    "\n",
    "import random\n",
    "\n",
    "x = random.randint(1, 100)\n",
    "y = random.randint(1, 100)\n",
    "\n",
    "answer = int(input(f\"{x} + {y}=\"))\n",
    "\n",
    "# 부울(불링) 변수에 결과를 저장하고 출력\n",
    "flag = (answer == (x+y))\n",
    "print(flag)"
   ]
  },
  {
   "cell_type": "code",
   "execution_count": 14,
   "id": "601d6982",
   "metadata": {},
   "outputs": [
    {
     "name": "stdout",
     "output_type": "stream",
     "text": [
      "첫번째 값: 3\n",
      "두번째 값: 2\n",
      "절대값 3\n",
      "최대값 3\n",
      "최소값 2\n"
     ]
    }
   ],
   "source": [
    "# 조건연산자 - 삼항연산자\n",
    "\n",
    "x = eval(input(\"첫번째 값: \"))\n",
    "y = eval(input(\"두번째 값: \"))\n",
    "\n",
    "absolute_value = (x if x > 0 else -x) #절대값\n",
    "max_value = (x if x > y else y) #최대값\n",
    "min_value = (x if x < y else y) #최소값\n",
    "\n",
    "print(\"절대값\", absolute_value)\n",
    "print(\"최대값\", max_value)\n",
    "print(\"최소값\", min_value)"
   ]
  },
  {
   "cell_type": "code",
   "execution_count": 20,
   "id": "214deae9",
   "metadata": {},
   "outputs": [
    {
     "name": "stdout",
     "output_type": "stream",
     "text": [
      "온도를 입력하세요100\n",
      "물의 상태는 기체입니다.\n"
     ]
    }
   ],
   "source": [
    "# 온도에 따른 물의 상태\n",
    "temp = float(input(\"온도를 입력하세요\"))\n",
    " \n",
    "if temp <= 0 :\n",
    "    print(\"물의 상태는 얼음입니다.\")\n",
    "elif temp > 0 and temp < 100 :\n",
    "    print(\"물의 상태는 액체입니다.\")\n",
    "else :\n",
    "    print(\"물의 상태는 기체입니다.\")"
   ]
  }
 ],
 "metadata": {
  "kernelspec": {
   "display_name": "Python 3 (ipykernel)",
   "language": "python",
   "name": "python3"
  },
  "language_info": {
   "codemirror_mode": {
    "name": "ipython",
    "version": 3
   },
   "file_extension": ".py",
   "mimetype": "text/x-python",
   "name": "python",
   "nbconvert_exporter": "python",
   "pygments_lexer": "ipython3",
   "version": "3.9.12"
  }
 },
 "nbformat": 4,
 "nbformat_minor": 5
}
