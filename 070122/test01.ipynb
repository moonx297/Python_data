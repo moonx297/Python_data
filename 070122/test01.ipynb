{
 "cells": [
  {
   "cell_type": "code",
   "execution_count": 1,
   "id": "d5bb0ec7",
   "metadata": {},
   "outputs": [
    {
     "name": "stdout",
     "output_type": "stream",
     "text": [
      "원리금 합계= 1628.894626777442\n"
     ]
    }
   ],
   "source": [
    "# 원리금 합계 구하기\n",
    "\n",
    "a = 1000                               # 원금\n",
    "r = 0.05                               # 이자율\n",
    "n = 10                                 # 기간\n",
    "result = a * (1+r) ** n #** 는 지수   # 원리금 합계\n",
    "\n",
    "print(\"원리금 합계=\", result)"
   ]
  },
  {
   "cell_type": "code",
   "execution_count": 3,
   "id": "de04632e",
   "metadata": {},
   "outputs": [
    {
     "name": "stdout",
     "output_type": "stream",
     "text": [
      "925.88\n"
     ]
    }
   ],
   "source": [
    "# 소수점 자리 \n",
    "price = 12345\n",
    "tax = price * 0.075\n",
    "tax = round(tax,2)     #두자리수로 반올림 해라\n",
    "print(tax)"
   ]
  },
  {
   "cell_type": "code",
   "execution_count": 4,
   "id": "ad17a4a7",
   "metadata": {},
   "outputs": [
    {
     "name": "stdout",
     "output_type": "stream",
     "text": [
      "hello\n",
      "Hi\n"
     ]
    }
   ],
   "source": [
    "# 문자열    따옴표 상관 없음\n",
    "msg = \"hello\"\n",
    "print(msg)\n",
    "msg = 'Hi'\n",
    "print(msg)"
   ]
  },
  {
   "cell_type": "code",
   "execution_count": 5,
   "id": "56f8de33",
   "metadata": {},
   "outputs": [
    {
     "name": "stdout",
     "output_type": "stream",
     "text": [
      "\n",
      "안녕하세요\n",
      "지금 파이썬을\n",
      "배우고 있습니다.\n",
      "\n"
     ]
    }
   ],
   "source": [
    "#세 따옴표 문자열 - 여러줄 표시 가능\n",
    "a = \"\"\"\n",
    "안녕하세요\n",
    "지금 파이썬을\n",
    "배우고 있습니다.\n",
    "\"\"\"\n",
    "print(a)"
   ]
  },
  {
   "cell_type": "code",
   "execution_count": 15,
   "id": "5098c4c9",
   "metadata": {
    "scrolled": true
   },
   "outputs": [
    {
     "name": "stdout",
     "output_type": "stream",
     "text": [
      "\n",
      "1. 시작\n",
      "2. 수정\n",
      "3. 삭제\n",
      "4. 종료\n",
      "==> 번호를 선택하세요 :\n",
      "\n",
      "\n"
     ]
    }
   ],
   "source": [
    "menu = \"\"\"\n",
    "1. 시작\n",
    "2. 수정\n",
    "3. 삭제\n",
    "4. 종료\n",
    "==> 번호를 선택하세요 :\n",
    "\n",
    "\"\"\"\n",
    "print(menu)"
   ]
  },
  {
   "cell_type": "code",
   "execution_count": 9,
   "id": "3b8180eb",
   "metadata": {},
   "outputs": [
    {
     "data": {
      "text/plain": [
       "'HelloWorld!'"
      ]
     },
     "execution_count": 9,
     "metadata": {},
     "output_type": "execute_result"
    }
   ],
   "source": [
    "\"Hello\" + \"World!\""
   ]
  },
  {
   "cell_type": "code",
   "execution_count": 16,
   "id": "5e378ddc",
   "metadata": {},
   "outputs": [
    {
     "name": "stdout",
     "output_type": "stream",
     "text": [
      "------------------------------\n"
     ]
    }
   ],
   "source": [
    "Lines = \"-\" * 30\n",
    "print(Lines)"
   ]
  },
  {
   "cell_type": "code",
   "execution_count": 14,
   "id": "9bb708c4",
   "metadata": {},
   "outputs": [
    {
     "name": "stdout",
     "output_type": "stream",
     "text": [
      "Terminator 3\n"
     ]
    }
   ],
   "source": [
    "#숫자를 문자로 변환\n",
    "movie = \"Terminator \" + str(3)\n",
    "print(movie)"
   ]
  },
  {
   "cell_type": "code",
   "execution_count": 18,
   "id": "17a5ae57",
   "metadata": {},
   "outputs": [
    {
     "name": "stdout",
     "output_type": "stream",
     "text": [
      "말 한마디로\n",
      "천냥빛을\n",
      "갚는다\n"
     ]
    }
   ],
   "source": [
    "print(\"말 한마디로\\n천냥빛을\\n갚는다\")"
   ]
  },
  {
   "cell_type": "code",
   "execution_count": 20,
   "id": "5216f130",
   "metadata": {},
   "outputs": [
    {
     "name": "stdout",
     "output_type": "stream",
     "text": [
      "K과P과L\n"
     ]
    }
   ],
   "source": [
    "#문자열은 배열로 처리한다 - 한칸이라도 들여쓰기하면 오류 발생\n",
    "a = \"Kim\"\n",
    "b = \"Park\"\n",
    "c = \"Lee\"\n",
    "acronym = a[0] + \"과\" + b[0] + \"과\" + c[0]\n",
    "print(acronym)"
   ]
  },
  {
   "cell_type": "code",
   "execution_count": 24,
   "id": "6e501e73",
   "metadata": {},
   "outputs": [
    {
     "name": "stdout",
     "output_type": "stream",
     "text": [
      "harry porter\n",
      "HARRY PORTER\n"
     ]
    }
   ],
   "source": [
    "#파이썬은 모든 변수를 오브젝트로 선언한다\n",
    "\n",
    "name = \"Harry Porter\"\n",
    "lower_name = name.lower() #소문자로 바꿔라\n",
    "print(lower_name)\n",
    "upper_name = name.upper() #대문자로 바꿔라\n",
    "print(upper_name)\n",
    "\n"
   ]
  },
  {
   "cell_type": "code",
   "execution_count": null,
   "id": "f8a1bb45",
   "metadata": {},
   "outputs": [],
   "source": [
    "a=5\n",
    "a."
   ]
  }
 ],
 "metadata": {
  "kernelspec": {
   "display_name": "Python 3 (ipykernel)",
   "language": "python",
   "name": "python3"
  },
  "language_info": {
   "codemirror_mode": {
    "name": "ipython",
    "version": 3
   },
   "file_extension": ".py",
   "mimetype": "text/x-python",
   "name": "python",
   "nbconvert_exporter": "python",
   "pygments_lexer": "ipython3",
   "version": "3.9.12"
  }
 },
 "nbformat": 4,
 "nbformat_minor": 5
}
