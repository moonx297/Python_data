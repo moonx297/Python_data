{
 "cells": [
  {
   "cell_type": "code",
   "execution_count": 7,
   "id": "9c0b5e3d",
   "metadata": {},
   "outputs": [
    {
     "name": "stdout",
     "output_type": "stream",
     "text": [
      "71 + 73 =144\n",
      "잘 했어요~\n",
      "44 + 53 =97\n",
      "잘 했어요~\n",
      "45 + 33 =55\n",
      "틀렸습니다. 하지만 다음번에는 잘 할 수 있어요.\n"
     ]
    }
   ],
   "source": [
    "# 산수 문제\n",
    "import random\n",
    "\n",
    "flag = True\n",
    "while flag :\n",
    "    x = random.randint(1,100)\n",
    "    y = random.randint(1,100)\n",
    "    answer = int(input(f\"{x} + {y} =\"))     # 파이썬에서는 백틱이 아니라 f 입력\n",
    "    if answer == x + y :        # 맞으면 계속 반복. 종료를 만들지 않았으니!\n",
    "        print(\"잘 했어요~\")\n",
    "    else : \n",
    "        print(\"틀렸습니다. 하지만 다음번에는 잘 할 수 있어요.\")\n",
    "        flag = False"
   ]
  },
  {
   "cell_type": "code",
   "execution_count": 8,
   "id": "3daac2be",
   "metadata": {},
   "outputs": [
    {
     "name": "stdout",
     "output_type": "stream",
     "text": [
      "*\n",
      "**\n",
      "***\n",
      "****\n",
      "*****\n"
     ]
    }
   ],
   "source": [
    "# 중첩반복문\n",
    " \n",
    "for y in range(1,6) :\n",
    "    for x in range(y) :\n",
    "        print(\"*\", end = \"\")\n",
    "    print(\"\")"
   ]
  },
  {
   "cell_type": "code",
   "execution_count": 11,
   "id": "6944ae17",
   "metadata": {},
   "outputs": [
    {
     "name": "stdout",
     "output_type": "stream",
     "text": [
      "첫 번째 주사위 = 1 두 번째 주사위 = 5\n",
      "첫 번째 주사위 = 2 두 번째 주사위 = 4\n",
      "첫 번째 주사위 = 3 두 번째 주사위 = 3\n",
      "첫 번째 주사위 = 4 두 번째 주사위 = 2\n",
      "첫 번째 주사위 = 5 두 번째 주사위 = 1\n"
     ]
    }
   ],
   "source": [
    "# 주사위 2개의 합이 6인 경우를 전부 출력\n",
    "\n",
    "for a in range(1,7) :\n",
    "    for b in range(1,7) :\n",
    "        if a + b == 6 : \n",
    "            print(f\"첫 번째 주사위 = {a} 두 번째 주사위 = {b}\")"
   ]
  },
  {
   "cell_type": "code",
   "execution_count": 18,
   "id": "b8b466e1",
   "metadata": {},
   "outputs": [
    {
     "name": "stdout",
     "output_type": "stream",
     "text": [
      "신호등 색상을 입력 : gree\n",
      "신호등 색상을 입력 : green\n",
      "전진~!!\n"
     ]
    }
   ],
   "source": [
    "# 무한 루틴과 break\n",
    "\n",
    "while True : \n",
    "    light = input(\"신호등 색상을 입력 : \")\n",
    "    if light == 'green': \n",
    "        break\n",
    "        \n",
    "print('전진~!!')"
   ]
  },
  {
   "cell_type": "code",
   "execution_count": 26,
   "id": "e88c4ae7",
   "metadata": {},
   "outputs": [
    {
     "name": "stdout",
     "output_type": "stream",
     "text": [
      "1 2 4 5 7 8 10 "
     ]
    }
   ],
   "source": [
    "# 1~10사이에서 3의 배수가 아니면 출력 continue\n",
    "for i in range(1,11) : \n",
    "    if i % 3 == 0 :\n",
    "        continue\n",
    "    print(i, end = \" \")"
   ]
  },
  {
   "cell_type": "code",
   "execution_count": null,
   "id": "ea8a8049",
   "metadata": {},
   "outputs": [],
   "source": [
    "# 1~100 사이의 소수 찾기\n",
    "N_PRIMES = 50\n",
    "number = 2\n",
    "count = 0\n",
    "\n",
    "while count < N_PRIMES :\n",
    "    divisor = 2\n",
    "    prime = True\n",
    "    \n",
    "    while divisor < number : \n",
    "        if number % divisor == 0 :\n",
    "            prime = False\n",
    "            break;\n",
    "        divisor += 1\n",
    "    if prime :\n",
    "        count += 1\n",
    "        print(number, end = \" \")\n",
    "        \n",
    "    number += 1"
   ]
  }
 ],
 "metadata": {
  "kernelspec": {
   "display_name": "Python 3 (ipykernel)",
   "language": "python",
   "name": "python3"
  },
  "language_info": {
   "codemirror_mode": {
    "name": "ipython",
    "version": 3
   },
   "file_extension": ".py",
   "mimetype": "text/x-python",
   "name": "python",
   "nbconvert_exporter": "python",
   "pygments_lexer": "ipython3",
   "version": "3.9.12"
  }
 },
 "nbformat": 4,
 "nbformat_minor": 5
}
