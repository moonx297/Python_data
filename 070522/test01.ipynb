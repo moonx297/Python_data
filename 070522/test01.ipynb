{
 "cells": [
  {
   "cell_type": "code",
   "execution_count": 7,
   "id": "9c0b5e3d",
   "metadata": {},
   "outputs": [
    {
     "name": "stdout",
     "output_type": "stream",
     "text": [
      "71 + 73 =144\n",
      "잘 했어요~\n",
      "44 + 53 =97\n",
      "잘 했어요~\n",
      "45 + 33 =55\n",
      "틀렸습니다. 하지만 다음번에는 잘 할 수 있어요.\n"
     ]
    }
   ],
   "source": [
    "# 산수 문제\n",
    "import random\n",
    "\n",
    "flag = True\n",
    "while flag :\n",
    "    x = random.randint(1,100)\n",
    "    y = random.randint(1,100)\n",
    "    answer = int(input(f\"{x} + {y} =\"))     # 파이썬에서는 백틱이 아니라 f 입력\n",
    "    if answer == x + y :        # 맞으면 계속 반복. 종료를 만들지 않았으니!\n",
    "        print(\"잘 했어요~\")\n",
    "    else : \n",
    "        print(\"틀렸습니다. 하지만 다음번에는 잘 할 수 있어요.\")\n",
    "        flag = False"
   ]
  },
  {
   "cell_type": "code",
   "execution_count": 8,
   "id": "40cb5307",
   "metadata": {},
   "outputs": [
    {
     "name": "stdout",
     "output_type": "stream",
     "text": [
      "*\n",
      "**\n",
      "***\n",
      "****\n",
      "*****\n"
     ]
    }
   ],
   "source": [
    "# 중첩반복문\n",
    " \n",
    "for y in range(1,6) :\n",
    "    for x in range(y) :\n",
    "        print(\"*\", end = \"\")\n",
    "    print(\"\")"
   ]
  },
  {
   "cell_type": "code",
   "execution_count": 11,
   "id": "4816bb03",
   "metadata": {},
   "outputs": [
    {
     "name": "stdout",
     "output_type": "stream",
     "text": [
      "첫 번째 주사위 = 1 두 번째 주사위 = 5\n",
      "첫 번째 주사위 = 2 두 번째 주사위 = 4\n",
      "첫 번째 주사위 = 3 두 번째 주사위 = 3\n",
      "첫 번째 주사위 = 4 두 번째 주사위 = 2\n",
      "첫 번째 주사위 = 5 두 번째 주사위 = 1\n"
     ]
    }
   ],
   "source": [
    "# 주사위 2개의 합이 6인 경우를 전부 출력\n",
    "\n",
    "for a in range(1,7) :\n",
    "    for b in range(1,7) :\n",
    "        if a + b == 6 : \n",
    "            print(f\"첫 번째 주사위 = {a} 두 번째 주사위 = {b}\")"
   ]
  },
  {
   "cell_type": "code",
   "execution_count": 18,
   "id": "617b5826",
   "metadata": {},
   "outputs": [
    {
     "name": "stdout",
     "output_type": "stream",
     "text": [
      "신호등 색상을 입력 : gree\n",
      "신호등 색상을 입력 : green\n",
      "전진~!!\n"
     ]
    }
   ],
   "source": [
    "# 무한 루틴과 break\n",
    "\n",
    "while True : \n",
    "    light = input(\"신호등 색상을 입력 : \")\n",
    "    if light == 'green': \n",
    "        break\n",
    "        \n",
    "print('전진~!!')"
   ]
  },
  {
   "cell_type": "code",
   "execution_count": 26,
   "id": "6c30bc60",
   "metadata": {},
   "outputs": [
    {
     "name": "stdout",
     "output_type": "stream",
     "text": [
      "1 2 4 5 7 8 10 "
     ]
    }
   ],
   "source": [
    "# 1~10사이에서 3의 배수가 아니면 출력 continue\n",
    "for i in range(1,11) : \n",
    "    if i % 3 == 0 :\n",
    "        continue\n",
    "    print(i, end = \" \")"
   ]
  },
  {
   "cell_type": "code",
   "execution_count": 34,
   "id": "26b0cde0",
   "metadata": {},
   "outputs": [
    {
     "name": "stdout",
     "output_type": "stream",
     "text": [
      "2 3 5 7 11 13 17 19 23 29 31 37 41 43 47 53 59 61 67 71 73 79 83 89 97 "
     ]
    }
   ],
   "source": [
    "# 1~100 사이의 소수 찾기\n",
    "N_PRIMES = 25\n",
    "number = 2\n",
    "count = 0\n",
    "\n",
    "while count < N_PRIMES :\n",
    "    divisor = 2\n",
    "    prime = True\n",
    "    \n",
    "    while divisor < number : \n",
    "        if number % divisor == 0 :\n",
    "            prime = False\n",
    "            break;\n",
    "        divisor += 1\n",
    "    if prime :\n",
    "        count += 1\n",
    "        print(number, end = \" \")\n",
    "        \n",
    "    number += 1"
   ]
  },
  {
   "cell_type": "code",
   "execution_count": 44,
   "id": "f886be7e",
   "metadata": {},
   "outputs": [
    {
     "name": "stdout",
     "output_type": "stream",
     "text": [
      "20\n",
      "20 is too big!\n",
      "20\n",
      "20 is too big!\n",
      "21\n",
      "21 is too big!\n",
      "22\n",
      "22 is too big!\n",
      "23\n",
      "23 is too big!\n",
      "25\n",
      "25 is too big!\n"
     ]
    },
    {
     "ename": "KeyboardInterrupt",
     "evalue": "Interrupted by user",
     "output_type": "error",
     "traceback": [
      "\u001b[1;31m---------------------------------------------------------------------------\u001b[0m",
      "\u001b[1;31mKeyboardInterrupt\u001b[0m                         Traceback (most recent call last)",
      "Input \u001b[1;32mIn [44]\u001b[0m, in \u001b[0;36m<cell line: 4>\u001b[1;34m()\u001b[0m\n\u001b[0;32m      1\u001b[0m \u001b[38;5;28mmax\u001b[39m \u001b[38;5;241m=\u001b[39m \u001b[38;5;241m10\u001b[39m\n\u001b[0;32m      3\u001b[0m \u001b[38;5;28;01mwhile\u001b[39;00m \u001b[38;5;28;01mTrue\u001b[39;00m:\n\u001b[1;32m----> 4\u001b[0m     num \u001b[38;5;241m=\u001b[39m \u001b[38;5;28mint\u001b[39m(\u001b[38;5;28;43minput\u001b[39;49m\u001b[43m(\u001b[49m\u001b[43m)\u001b[49m)\n\u001b[0;32m      5\u001b[0m     \u001b[38;5;28;01mif\u001b[39;00m num \u001b[38;5;241m>\u001b[39m \u001b[38;5;28mmax\u001b[39m:\n\u001b[0;32m      6\u001b[0m         \u001b[38;5;28mprint\u001b[39m(num, \u001b[38;5;124m'\u001b[39m\u001b[38;5;124mis too big!\u001b[39m\u001b[38;5;124m'\u001b[39m)\n",
      "File \u001b[1;32mC:\\ProgramData\\Anaconda3\\lib\\site-packages\\ipykernel\\kernelbase.py:1075\u001b[0m, in \u001b[0;36mKernel.raw_input\u001b[1;34m(self, prompt)\u001b[0m\n\u001b[0;32m   1071\u001b[0m \u001b[38;5;28;01mif\u001b[39;00m \u001b[38;5;129;01mnot\u001b[39;00m \u001b[38;5;28mself\u001b[39m\u001b[38;5;241m.\u001b[39m_allow_stdin:\n\u001b[0;32m   1072\u001b[0m     \u001b[38;5;28;01mraise\u001b[39;00m StdinNotImplementedError(\n\u001b[0;32m   1073\u001b[0m         \u001b[38;5;124m\"\u001b[39m\u001b[38;5;124mraw_input was called, but this frontend does not support input requests.\u001b[39m\u001b[38;5;124m\"\u001b[39m\n\u001b[0;32m   1074\u001b[0m     )\n\u001b[1;32m-> 1075\u001b[0m \u001b[38;5;28;01mreturn\u001b[39;00m \u001b[38;5;28;43mself\u001b[39;49m\u001b[38;5;241;43m.\u001b[39;49m\u001b[43m_input_request\u001b[49m\u001b[43m(\u001b[49m\n\u001b[0;32m   1076\u001b[0m \u001b[43m    \u001b[49m\u001b[38;5;28;43mstr\u001b[39;49m\u001b[43m(\u001b[49m\u001b[43mprompt\u001b[49m\u001b[43m)\u001b[49m\u001b[43m,\u001b[49m\n\u001b[0;32m   1077\u001b[0m \u001b[43m    \u001b[49m\u001b[38;5;28;43mself\u001b[39;49m\u001b[38;5;241;43m.\u001b[39;49m\u001b[43m_parent_ident\u001b[49m\u001b[43m[\u001b[49m\u001b[38;5;124;43m\"\u001b[39;49m\u001b[38;5;124;43mshell\u001b[39;49m\u001b[38;5;124;43m\"\u001b[39;49m\u001b[43m]\u001b[49m\u001b[43m,\u001b[49m\n\u001b[0;32m   1078\u001b[0m \u001b[43m    \u001b[49m\u001b[38;5;28;43mself\u001b[39;49m\u001b[38;5;241;43m.\u001b[39;49m\u001b[43mget_parent\u001b[49m\u001b[43m(\u001b[49m\u001b[38;5;124;43m\"\u001b[39;49m\u001b[38;5;124;43mshell\u001b[39;49m\u001b[38;5;124;43m\"\u001b[39;49m\u001b[43m)\u001b[49m\u001b[43m,\u001b[49m\n\u001b[0;32m   1079\u001b[0m \u001b[43m    \u001b[49m\u001b[43mpassword\u001b[49m\u001b[38;5;241;43m=\u001b[39;49m\u001b[38;5;28;43;01mFalse\u001b[39;49;00m\u001b[43m,\u001b[49m\n\u001b[0;32m   1080\u001b[0m \u001b[43m\u001b[49m\u001b[43m)\u001b[49m\n",
      "File \u001b[1;32mC:\\ProgramData\\Anaconda3\\lib\\site-packages\\ipykernel\\kernelbase.py:1120\u001b[0m, in \u001b[0;36mKernel._input_request\u001b[1;34m(self, prompt, ident, parent, password)\u001b[0m\n\u001b[0;32m   1117\u001b[0m             \u001b[38;5;28;01mbreak\u001b[39;00m\n\u001b[0;32m   1118\u001b[0m \u001b[38;5;28;01mexcept\u001b[39;00m \u001b[38;5;167;01mKeyboardInterrupt\u001b[39;00m:\n\u001b[0;32m   1119\u001b[0m     \u001b[38;5;66;03m# re-raise KeyboardInterrupt, to truncate traceback\u001b[39;00m\n\u001b[1;32m-> 1120\u001b[0m     \u001b[38;5;28;01mraise\u001b[39;00m \u001b[38;5;167;01mKeyboardInterrupt\u001b[39;00m(\u001b[38;5;124m\"\u001b[39m\u001b[38;5;124mInterrupted by user\u001b[39m\u001b[38;5;124m\"\u001b[39m) \u001b[38;5;28;01mfrom\u001b[39;00m \u001b[38;5;28mNone\u001b[39m\n\u001b[0;32m   1121\u001b[0m \u001b[38;5;28;01mexcept\u001b[39;00m \u001b[38;5;167;01mException\u001b[39;00m:\n\u001b[0;32m   1122\u001b[0m     \u001b[38;5;28mself\u001b[39m\u001b[38;5;241m.\u001b[39mlog\u001b[38;5;241m.\u001b[39mwarning(\u001b[38;5;124m\"\u001b[39m\u001b[38;5;124mInvalid Message:\u001b[39m\u001b[38;5;124m\"\u001b[39m, exc_info\u001b[38;5;241m=\u001b[39m\u001b[38;5;28;01mTrue\u001b[39;00m)\n",
      "\u001b[1;31mKeyboardInterrupt\u001b[0m: Interrupted by user"
     ]
    }
   ],
   "source": [
    "max = 10\n",
    "\n",
    "while True:\n",
    "    num = int(input())\n",
    "    if num > max:\n",
    "        print(num, 'is too big!')\n",
    "     # break 가 없어서 종료 없음"
   ]
  },
  {
   "cell_type": "code",
   "execution_count": 45,
   "id": "20908152",
   "metadata": {},
   "outputs": [
    {
     "name": "stdout",
     "output_type": "stream",
     "text": [
      "2\n",
      "5\n",
      "12\n",
      "12 is too big!\n"
     ]
    }
   ],
   "source": [
    "max = 10\n",
    "\n",
    "while True:\n",
    "    num = int(input())\n",
    "    if num > max:\n",
    "        print(num, 'is too big!')\n",
    "        break    # break로 종료"
   ]
  },
  {
   "cell_type": "code",
   "execution_count": 43,
   "id": "559d686a",
   "metadata": {},
   "outputs": [
    {
     "name": "stdout",
     "output_type": "stream",
     "text": [
      "반복 횟수 : 10000\n",
      "Pi = 3.141493\n"
     ]
    }
   ],
   "source": [
    "# 파이 값을 계산하는 프로그램\n",
    "\n",
    "divisor = 1.0\n",
    "divident = 4.0\n",
    "sum = 0.0\n",
    "loop_count = int(input(\"반복 횟수 : \"))\n",
    "while(loop_count > 0) :\n",
    "    sum = sum + divident / divisor\n",
    "    divident = -1.0 * divident\n",
    "    divisor = divisor + 2\n",
    "    loop_count = loop_count - 1\n",
    "print(\"Pi = %f\" % sum)"
   ]
  }
 ],
 "metadata": {
  "kernelspec": {
   "display_name": "Python 3 (ipykernel)",
   "language": "python",
   "name": "python3"
  },
  "language_info": {
   "codemirror_mode": {
    "name": "ipython",
    "version": 3
   },
   "file_extension": ".py",
   "mimetype": "text/x-python",
   "name": "python",
   "nbconvert_exporter": "python",
   "pygments_lexer": "ipython3",
   "version": "3.9.12"
  }
 },
 "nbformat": 4,
 "nbformat_minor": 5
}
