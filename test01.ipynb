{
 "cells": [
  {
   "cell_type": "code",
   "execution_count": 2,
   "id": "9c0b5e3d",
   "metadata": {},
   "outputs": [
    {
     "name": "stdout",
     "output_type": "stream",
     "text": [
      "동전 던지기 게임을 시작합니다.\n",
      "뒷면입니다.\n",
      "게임이 종료되었습니다.\n"
     ]
    }
   ],
   "source": [
    "# 동전 던지기 게임\n",
    "import random\n",
    "\n",
    "print(\"동전 던지기 게임을 시작합니다.\")\n",
    "coin = random.randrange(2)\n",
    "if coin == 0:\n",
    "    print(\"앞면입니다.\")\n",
    "else:\n",
    "    print(\"뒷면입니다.\")\n",
    "print(\"게임이 종료되었습니다.\")"
   ]
  },
  {
   "cell_type": "code",
   "execution_count": 9,
   "id": "d40b35f0",
   "metadata": {},
   "outputs": [
    {
     "name": "stdout",
     "output_type": "stream",
     "text": [
      "배송지(현재는 korea와 us만 가능): us\n",
      "상품의 가격: 20\n",
      "배송비= 8000\n"
     ]
    }
   ],
   "source": [
    "# 배송비 프로그램\n",
    "country = input(\"배송지(현재는 korea와 us만 가능): \")\n",
    "price = int(input(\"상품의 가격: \"))\n",
    "\n",
    "# 배송비를 결정한다.\n",
    "if country == \"korea\": \n",
    "    if price >= 20000:\n",
    "        shipping_cost = 0\n",
    "    else:\n",
    "        shipping_cost = 3000\n",
    "else:\n",
    "    if price >= 100000:\n",
    "        shipping_cost = 0\n",
    "    else:\n",
    "        shipping_cost = 8000\n",
    "        \n",
    "# 배송비를 출력\n",
    "print(\"배송비=\", shipping_cost)"
   ]
  },
  {
   "cell_type": "code",
   "execution_count": 32,
   "id": "a91096a6",
   "metadata": {},
   "outputs": [
    {
     "name": "stdout",
     "output_type": "stream",
     "text": [
      "리히터 규모를 입력 : 20\n",
      "대부분의 구조물이 파괴됩니다.\n"
     ]
    }
   ],
   "source": [
    "# 리히터 규모를 받아서 피해정도를 출력\n",
    "\n",
    "scale = float(input(\"리히터 규모를 입력 : \"))\n",
    "\n",
    "if scale >= 8.0:\n",
    "    print(\"대부분의 구조물이 파괴됩니다.\")\n",
    "elif scale >= 7.0:\n",
    "    print(\"지표면에 균열이 발생합니다.\")\n",
    "elif scale >= 4.0:\n",
    "    print(\"빈약한 건물에 큰 피해가 있습니다.\")\n",
    "elif scale >= 2.0:\n",
    "    print(\"물건들이 흔들리거나 떨어집니다.\")\n",
    "else:\n",
    "    print(\"지진계에 의해서만 탐지 가능합니다.\")"
   ]
  },
  {
   "cell_type": "code",
   "execution_count": 2,
   "id": "a5aa57d6",
   "metadata": {},
   "outputs": [
    {
     "name": "stdout",
     "output_type": "stream",
     "text": [
      "나 파이썬~\n",
      "나 파이썬~\n",
      "나 파이썬~\n",
      "나 파이썬~\n",
      "나 파이썬~\n"
     ]
    }
   ],
   "source": [
    "# 파이썬의 for문 특징 - in -> range\n",
    "\n",
    "for i in range(5):\n",
    "    print(\"나 파이썬~\")"
   ]
  },
  {
   "cell_type": "code",
   "execution_count": 10,
   "id": "53daa45c",
   "metadata": {},
   "outputs": [
    {
     "name": "stdout",
     "output_type": "stream",
     "text": [
      "[1, 2, 6, 3]\n"
     ]
    }
   ],
   "source": [
    "# 파이썬은 배열이 존재하지 않고 리스트를 사용함\n",
    "\n",
    "List = []\n",
    "List.append(1)\n",
    "List.append(2)\n",
    "List.append(6)\n",
    "List.append(3)\n",
    "\n",
    "print(List)"
   ]
  },
  {
   "cell_type": "code",
   "execution_count": 13,
   "id": "7f3af64f",
   "metadata": {},
   "outputs": [
    {
     "name": "stdout",
     "output_type": "stream",
     "text": [
      "[1, '하나', 6, 7.4]\n"
     ]
    }
   ],
   "source": [
    "# 파이썬은 배열이 존재하지 않고 리스트를 사용함. \n",
    "\n",
    "List = []  #여러속성을 나란하게 한다. 배열이 아니라 List임\n",
    "List.append(1)\n",
    "List.append(\"하나\")\n",
    "List.append(6)\n",
    "List.append(7.4)\n",
    "\n",
    "print(List)"
   ]
  },
  {
   "cell_type": "code",
   "execution_count": 18,
   "id": "f2209a3c",
   "metadata": {},
   "outputs": [
    {
     "name": "stdout",
     "output_type": "stream",
     "text": [
      "7.4\n",
      "7.4\n",
      "6\n"
     ]
    }
   ],
   "source": [
    "# - → 왼쪽에서 오른쪽으로 : 0부터 증가\n",
    "# - ← 오른쪽에서 왼쪽으로 : -1부터 감소\n",
    "# [1, '하나', 6, 7.4]\n",
    "#  0    1     2   3\n",
    "# -4    -3   -2  -1\n",
    "\n",
    "\n",
    "print(List[3])\n",
    "print(List[-1])\n",
    "print(List[-2])"
   ]
  },
  {
   "cell_type": "code",
   "execution_count": 33,
   "id": "a69828bf",
   "metadata": {},
   "outputs": [
    {
     "name": "stdout",
     "output_type": "stream",
     "text": [
      "1\n",
      "하나\n",
      "6\n",
      "7.4\n"
     ]
    }
   ],
   "source": [
    "# 리스트 출력\n",
    "# for문을 List로 돌려라\n",
    "\n",
    "\n",
    "for i in range(4):\n",
    "    print(List[i])"
   ]
  },
  {
   "cell_type": "code",
   "execution_count": 34,
   "id": "fe97a1f3",
   "metadata": {},
   "outputs": [
    {
     "name": "stdout",
     "output_type": "stream",
     "text": [
      "1\n",
      "하나\n",
      "6\n",
      "7.4\n"
     ]
    }
   ],
   "source": [
    "# 리스트 출력\n",
    "# for문을 List로 돌려라\n",
    "# range를 모를때에는?\n",
    "\n",
    "for i in List:\n",
    "    print(i)"
   ]
  },
  {
   "cell_type": "code",
   "execution_count": 22,
   "id": "a070c610",
   "metadata": {},
   "outputs": [
    {
     "name": "stdout",
     "output_type": "stream",
     "text": [
      "10\n",
      "9\n",
      "8\n",
      "7\n",
      "6\n",
      "5\n",
      "4\n",
      "3\n",
      "2\n",
      "1\n"
     ]
    }
   ],
   "source": [
    "# 숫자를 역으로 출력\n",
    "\n",
    "for i in range(10, 0, -1): # 초기값 10 범위 0  조건 -1 \n",
    "    print(i)"
   ]
  },
  {
   "cell_type": "code",
   "execution_count": 26,
   "id": "b862d552",
   "metadata": {},
   "outputs": [
    {
     "name": "stdout",
     "output_type": "stream",
     "text": [
      "10 9 8 7 6 5 4 3 2 1 "
     ]
    }
   ],
   "source": [
    "# 숫자를 역으로 출력\n",
    "\n",
    "for i in range(10, 0, -1):\n",
    "    print(i,end=\" \")    #ln 대신 end"
   ]
  },
  {
   "cell_type": "code",
   "execution_count": 29,
   "id": "d94d37b7",
   "metadata": {},
   "outputs": [
    {
     "name": "stdout",
     "output_type": "stream",
     "text": [
      "9 *  2 = 18\n",
      "9 *  3 = 27\n",
      "9 *  4 = 36\n",
      "9 *  5 = 45\n",
      "9 *  6 = 54\n",
      "9 *  7 = 63\n",
      "9 *  8 = 72\n",
      "9 *  9 = 81\n"
     ]
    }
   ],
   "source": [
    "# 구구셈\n",
    "for i in range(2,10):  #10을 써서 9까지만 출력\n",
    "    print(\"9 * \", i, \"=\", 9*i)"
   ]
  },
  {
   "cell_type": "code",
   "execution_count": 38,
   "id": "1fba6ef7",
   "metadata": {},
   "outputs": [
    {
     "name": "stdout",
     "output_type": "stream",
     "text": [
      "정수를 입력 : 30\n",
      "30 !은 265252859812191058636308480000000 이다\n"
     ]
    }
   ],
   "source": [
    "# 팩토리얼 계산 5,4,3,2,1, ...\n",
    "n = int(input(\"정수를 입력 : \"))\n",
    "fact = 1\n",
    "for i in range(1, n+1):\n",
    "    fact = fact * i\n",
    "print(n, \"!은\", fact, \"이다\")"
   ]
  },
  {
   "cell_type": "code",
   "execution_count": 4,
   "id": "f5a2d1b2",
   "metadata": {},
   "outputs": [
    {
     "ename": "KeyboardInterrupt",
     "evalue": "",
     "output_type": "error",
     "traceback": [
      "\u001b[1;31m---------------------------------------------------------------------------\u001b[0m",
      "\u001b[1;31mKeyboardInterrupt\u001b[0m                         Traceback (most recent call last)",
      "Input \u001b[1;32mIn [4]\u001b[0m, in \u001b[0;36m<cell line: 13>\u001b[1;34m()\u001b[0m\n\u001b[0;32m     10\u001b[0m     t\u001b[38;5;241m.\u001b[39mforward(\u001b[38;5;241m100\u001b[39m)\n\u001b[0;32m     11\u001b[0m     t\u001b[38;5;241m.\u001b[39mleft(\u001b[38;5;241m360\u001b[39m\u001b[38;5;241m/\u001b[39mn)\n\u001b[1;32m---> 13\u001b[0m \u001b[43mturtle\u001b[49m\u001b[38;5;241;43m.\u001b[39;49m\u001b[43mmainloop\u001b[49m\u001b[43m(\u001b[49m\u001b[43m)\u001b[49m\n\u001b[0;32m     14\u001b[0m turtle\u001b[38;5;241m.\u001b[39mbye()\n",
      "File \u001b[1;32m<string>:8\u001b[0m, in \u001b[0;36mmainloop\u001b[1;34m()\u001b[0m\n",
      "File \u001b[1;32mC:\\ProgramData\\Anaconda3\\lib\\turtle.py:812\u001b[0m, in \u001b[0;36mTurtleScreenBase.mainloop\u001b[1;34m(self)\u001b[0m\n\u001b[0;32m    799\u001b[0m \u001b[38;5;28;01mdef\u001b[39;00m \u001b[38;5;21mmainloop\u001b[39m(\u001b[38;5;28mself\u001b[39m):\n\u001b[0;32m    800\u001b[0m     \u001b[38;5;124;03m\"\"\"Starts event loop - calling Tkinter's mainloop function.\u001b[39;00m\n\u001b[0;32m    801\u001b[0m \n\u001b[0;32m    802\u001b[0m \u001b[38;5;124;03m    No argument.\u001b[39;00m\n\u001b[1;32m   (...)\u001b[0m\n\u001b[0;32m    810\u001b[0m \n\u001b[0;32m    811\u001b[0m \u001b[38;5;124;03m    \"\"\"\u001b[39;00m\n\u001b[1;32m--> 812\u001b[0m     \u001b[38;5;28;43mself\u001b[39;49m\u001b[38;5;241;43m.\u001b[39;49m\u001b[43mcv\u001b[49m\u001b[38;5;241;43m.\u001b[39;49m\u001b[43mtk\u001b[49m\u001b[38;5;241;43m.\u001b[39;49m\u001b[43mmainloop\u001b[49m\u001b[43m(\u001b[49m\u001b[43m)\u001b[49m\n",
      "\u001b[1;31mKeyboardInterrupt\u001b[0m: "
     ]
    }
   ],
   "source": [
    "# n-각형 그리기\n",
    "import turtle\n",
    "t = turtle.Turtle()\n",
    "t.shape(\"turtle\")\n",
    "\n",
    "s = turtle.textinput(\"\",\"몇각형을 원하시나요?:\")\n",
    "n = int(s)\n",
    "\n",
    "for i in range(n):\n",
    "    t.forward(100)\n",
    "    t.left(360/n)\n",
    "    \n",
    "turtle.mainloop()\n",
    "turtle.bye()"
   ]
  },
  {
   "cell_type": "code",
   "execution_count": null,
   "id": "08ee8cbc",
   "metadata": {},
   "outputs": [],
   "source": [
    "# n각형 그리기\n",
    "import turtle\n",
    "t = turtle.Turtle()\n",
    "t.shape(\"turtle\")\n",
    "\n",
    "s = turtle.textinput(\"\", \"몇각형을 원하시나요?:\")\n",
    "n = int(s)\n",
    "\n",
    "for i in range(n):\n",
    "    t.forward(30)\n",
    "    t.left(360/n)\n",
    "    \n",
    "turtle.mainloop()\n",
    "turtle.bye()"
   ]
  },
  {
   "cell_type": "markdown",
   "id": "6defee94",
   "metadata": {},
   "source": [
    "$$f(x)=x^2-x-1$$"
   ]
  },
  {
   "cell_type": "markdown",
   "id": "703183a8",
   "metadata": {},
   "source": [
    "$$f(x)=x^2-x-1$$"
   ]
  },
  {
   "cell_type": "code",
   "execution_count": null,
   "id": "cee55e79",
   "metadata": {},
   "outputs": [],
   "source": [
    "$$f(x)=x^2-x-1$$"
   ]
  },
  {
   "cell_type": "markdown",
   "id": "369e7c85",
   "metadata": {},
   "source": [
    "$$f(x)=x^2-x-1$$\n"
   ]
  },
  {
   "cell_type": "code",
   "execution_count": 1,
   "id": "07f35459",
   "metadata": {},
   "outputs": [
    {
     "name": "stdout",
     "output_type": "stream",
     "text": [
      "방정식의 해는  1.62\n"
     ]
    }
   ],
   "source": [
    "# 방정식의 해 계산\n",
    "COUNT = 100\n",
    "START = 1.0\n",
    "END = 2.0\n",
    "\n",
    "for i in range(COUNT):\n",
    "    x = START + i*((END-START)/COUNT)\n",
    "    f = (x**2 - x -1)\n",
    "    if abs(f-0.0) < 0.01:\n",
    "        print(\"방정식의 해는 \", x)"
   ]
  },
  {
   "cell_type": "code",
   "execution_count": 2,
   "id": "e4d07bb0",
   "metadata": {},
   "outputs": [
    {
     "name": "stdout",
     "output_type": "stream",
     "text": [
      "합계 :  55\n"
     ]
    }
   ],
   "source": [
    "# while 사용 예제\n",
    "# 제어 변수를 선언\n",
    "\n",
    "i = 1\n",
    "sum = 0\n",
    "\n",
    "# i 값이 10보다 작거나 같으면 반복\n",
    "while i <= 10 : \n",
    "    sum = sum + i\n",
    "    i = i + 1\n",
    "    \n",
    "print(\"합계 : \", sum)"
   ]
  }
 ],
 "metadata": {
  "kernelspec": {
   "display_name": "Python 3 (ipykernel)",
   "language": "python",
   "name": "python3"
  },
  "language_info": {
   "codemirror_mode": {
    "name": "ipython",
    "version": 3
   },
   "file_extension": ".py",
   "mimetype": "text/x-python",
   "name": "python",
   "nbconvert_exporter": "python",
   "pygments_lexer": "ipython3",
   "version": "3.9.12"
  }
 },
 "nbformat": 4,
 "nbformat_minor": 5
}
