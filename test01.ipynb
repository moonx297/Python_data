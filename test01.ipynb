{
  "nbformat": 4,
  "nbformat_minor": 0,
  "metadata": {
    "colab": {
      "name": "test01.ipynb",
      "provenance": [],
      "collapsed_sections": [],
      "mount_file_id": "15TZNtz-WFhEknzvK5C1lhfAUiXF3LKoB",
      "authorship_tag": "ABX9TyNc3Uu4YpxnsATQsAb0iPGM",
      "include_colab_link": true
    },
    "kernelspec": {
      "name": "python3",
      "display_name": "Python 3"
    },
    "language_info": {
      "name": "python"
    },
    "gpuClass": "standard"
  },
  "cells": [
    {
      "cell_type": "markdown",
      "metadata": {
        "id": "view-in-github",
        "colab_type": "text"
      },
      "source": [
        "<a href=\"https://colab.research.google.com/github/moonx297/Python_data/blob/main/test01.ipynb\" target=\"_parent\"><img src=\"https://colab.research.google.com/assets/colab-badge.svg\" alt=\"Open In Colab\"/></a>"
      ]
    },
    {
      "cell_type": "code",
      "source": [
        "def get_sum(start,end):\n",
        "  sum = 0\n",
        "  for i in range(start,end+1):\n",
        "    sum += i\n",
        "  return sum\n",
        "\n",
        "value = get_sum(1, 10)\n",
        "print(value)"
      ],
      "metadata": {
        "colab": {
          "base_uri": "https://localhost:8080/"
        },
        "id": "Pi_T2a1OD3FZ",
        "outputId": "0f68be94-65c6-4be8-fbe7-a16d32b56d01"
      },
      "execution_count": null,
      "outputs": [
        {
          "output_type": "stream",
          "name": "stdout",
          "text": [
            "55\n"
          ]
        }
      ]
    },
    {
      "cell_type": "code",
      "source": [
        "# 가변 인수 별 하나 *\n",
        "def varfunc(*args):\n",
        "  print(args)\n",
        "\n",
        "print(\"하나의 값으로 호출\")\n",
        "varfunc(10)\n",
        "print(\"여러개의 값으로 호출\")\n",
        "varfunc(10, 20, 30)\n",
        "print(\"여러개의 값으로 호출\")\n",
        "varfunc(10, 20, 30,10000,24,15,12356,123151,1253,86574,345)"
      ],
      "metadata": {
        "colab": {
          "base_uri": "https://localhost:8080/"
        },
        "id": "EQDV9Q0TENja",
        "outputId": "46f849ea-dd88-4d01-c1ca-4c91b9a10eab"
      },
      "execution_count": null,
      "outputs": [
        {
          "output_type": "stream",
          "name": "stdout",
          "text": [
            "하나의 값으로 호출\n",
            "(10,)\n",
            "여러개의 값으로 호출\n",
            "(10, 20, 30)\n",
            "여러개의 값으로 호출\n",
            "(10, 20, 30, 10000, 24, 15, 12356, 123151, 1253, 86574, 345)\n"
          ]
        }
      ]
    },
    {
      "cell_type": "code",
      "source": [
        "# 가변 키워드 별 두개 **\n",
        "\n",
        "def myfunc(**kwargs):    #배열이 두개니까 ** 두개~\n",
        "  result = \"\"\n",
        "  for arg in kwargs.values():\n",
        "    result += arg\n",
        "  return result\n",
        "\n",
        "print(myfunc(a=\"Hi, \", b=\"Mr.\", c=\"Kim\"))"
      ],
      "metadata": {
        "colab": {
          "base_uri": "https://localhost:8080/"
        },
        "id": "mNjbKigjOhTu",
        "outputId": "71ba4b52-a80f-4f70-f35d-77f619785f5d"
      },
      "execution_count": null,
      "outputs": [
        {
          "output_type": "stream",
          "name": "stdout",
          "text": [
            "Hi, Mr.Kim\n"
          ]
        }
      ]
    },
    {
      "cell_type": "code",
      "source": [
        "# 주급을 계산하는 프로그램\n",
        "\n",
        "def weeklyPay(rate, hour):\n",
        "  money = 0\n",
        "  if(hour > 30):\n",
        "    money = rate*30 + 1.5 * rate * (hour-30)\n",
        "  else:\n",
        "    money = rate*hour\n",
        "  return money\n",
        "\n",
        "rate = int(input(\"시급을 입력 : \"))\n",
        "hour = int(input(\"근무 시간을 입력 : \"))\n",
        "print(\"주급 : \" + str(weeklyPay(rate, hour)))"
      ],
      "metadata": {
        "colab": {
          "base_uri": "https://localhost:8080/"
        },
        "id": "DOHnNK64P5pG",
        "outputId": "15aeb00c-95ea-42c0-f50b-7a122e00ec72"
      },
      "execution_count": null,
      "outputs": [
        {
          "output_type": "stream",
          "name": "stdout",
          "text": [
            "시급을 입력 : 20000\n",
            "근무 시간을 입력 : 5\n",
            "주급 : 100000\n"
          ]
        }
      ]
    },
    {
      "cell_type": "code",
      "source": [
        "# 리턴값이 없는 함수\n",
        "def print_birthday(name):\n",
        "  print(\"생일축하합니다~\")\n",
        "  print(\"사랑하는\", name, \"의~\")\n",
        "  print(\"생일축하합니다~!!!\")\n",
        "\n",
        "  print_birthday(\"문희인\")"
      ],
      "metadata": {
        "id": "8wwr8qvVSIXM"
      },
      "execution_count": null,
      "outputs": []
    },
    {
      "cell_type": "code",
      "source": [
        "# 리턴값이 두개 이상 가능\n",
        "\n",
        "def get_info():\n",
        "  name = input(\"이름 : \")\n",
        "  age = int(input(\"나이 : \"))\n",
        "  return name, age\n",
        "\n",
        "st_name, st_age = get_info()\n",
        "print(\"이름은\", st_name, \"이고 나이는\", st_age, \"살입니다.\")"
      ],
      "metadata": {
        "colab": {
          "base_uri": "https://localhost:8080/"
        },
        "id": "RzFmIkAOStGe",
        "outputId": "a0f9bedb-b25f-481b-e57e-e674f13e7010"
      },
      "execution_count": null,
      "outputs": [
        {
          "output_type": "stream",
          "name": "stdout",
          "text": [
            "이름 : 문희인\n",
            "나이 : 28\n",
            "이름은 문희인 이고 나이는 28 살입니다.\n"
          ]
        }
      ]
    }
  ]
}